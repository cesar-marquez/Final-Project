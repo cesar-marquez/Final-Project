{
 "cells": [
  {
   "cell_type": "code",
   "execution_count": 1,
   "metadata": {},
   "outputs": [],
   "source": [
    "%matplotlib inline\n",
    "# Dependencies and Setup\n",
    "import matplotlib.pyplot as plt\n",
    "import pandas as pd\n",
    "import numpy as np\n",
    "import time\n",
    "import datetime\n",
    "from datetime import date"
   ]
  },
  {
   "cell_type": "code",
   "execution_count": 2,
   "metadata": {},
   "outputs": [
    {
     "data": {
      "text/html": [
       "<div>\n",
       "<style scoped>\n",
       "    .dataframe tbody tr th:only-of-type {\n",
       "        vertical-align: middle;\n",
       "    }\n",
       "\n",
       "    .dataframe tbody tr th {\n",
       "        vertical-align: top;\n",
       "    }\n",
       "\n",
       "    .dataframe thead th {\n",
       "        text-align: right;\n",
       "    }\n",
       "</style>\n",
       "<table border=\"1\" class=\"dataframe\">\n",
       "  <thead>\n",
       "    <tr style=\"text-align: right;\">\n",
       "      <th></th>\n",
       "      <th>Domestic Gross</th>\n",
       "      <th>Movie</th>\n",
       "      <th>Production Budget</th>\n",
       "      <th>ReleaseDate</th>\n",
       "      <th>Worldwide Gross</th>\n",
       "      <th>_id</th>\n",
       "    </tr>\n",
       "  </thead>\n",
       "  <tbody>\n",
       "    <tr>\n",
       "      <th>0</th>\n",
       "      <td>$760,507,625</td>\n",
       "      <td>Avatar</td>\n",
       "      <td>$425,000,000</td>\n",
       "      <td>Dec 18, 2009</td>\n",
       "      <td>$2,776,345,279</td>\n",
       "      <td>5cbf6a3df1b3f84eb09bd4e0</td>\n",
       "    </tr>\n",
       "    <tr>\n",
       "      <th>1</th>\n",
       "      <td>$241,063,875</td>\n",
       "      <td>Pirates of the Caribbean: On Stranger Tides</td>\n",
       "      <td>$410,600,000</td>\n",
       "      <td>May 20, 2011</td>\n",
       "      <td>$1,045,663,875</td>\n",
       "      <td>5cbf6a3df1b3f84eb09bd4e1</td>\n",
       "    </tr>\n",
       "    <tr>\n",
       "      <th>2</th>\n",
       "      <td>$459,005,868</td>\n",
       "      <td>Avengers: Age of Ultron</td>\n",
       "      <td>$330,600,000</td>\n",
       "      <td>May 1, 2015</td>\n",
       "      <td>$1,403,013,963</td>\n",
       "      <td>5cbf6a3df1b3f84eb09bd4e2</td>\n",
       "    </tr>\n",
       "    <tr>\n",
       "      <th>3</th>\n",
       "      <td>$620,181,382</td>\n",
       "      <td>Star Wars Ep. VIII: The Last Jedi</td>\n",
       "      <td>$317,000,000</td>\n",
       "      <td>Dec 15, 2017</td>\n",
       "      <td>$1,316,721,747</td>\n",
       "      <td>5cbf6a3df1b3f84eb09bd4e3</td>\n",
       "    </tr>\n",
       "    <tr>\n",
       "      <th>4</th>\n",
       "      <td>$936,662,225</td>\n",
       "      <td>Star Wars Ep. VII: The Force Awakens</td>\n",
       "      <td>$306,000,000</td>\n",
       "      <td>Dec 18, 2015</td>\n",
       "      <td>$2,053,311,220</td>\n",
       "      <td>5cbf6a3df1b3f84eb09bd4e4</td>\n",
       "    </tr>\n",
       "  </tbody>\n",
       "</table>\n",
       "</div>"
      ],
      "text/plain": [
       "  Domestic Gross                                        Movie  \\\n",
       "0   $760,507,625                                       Avatar   \n",
       "1   $241,063,875  Pirates of the Caribbean: On Stranger Tides   \n",
       "2   $459,005,868                      Avengers: Age of Ultron   \n",
       "3   $620,181,382            Star Wars Ep. VIII: The Last Jedi   \n",
       "4   $936,662,225         Star Wars Ep. VII: The Force Awakens   \n",
       "\n",
       "  Production Budget   ReleaseDate Worldwide Gross                       _id  \n",
       "0      $425,000,000  Dec 18, 2009  $2,776,345,279  5cbf6a3df1b3f84eb09bd4e0  \n",
       "1      $410,600,000  May 20, 2011  $1,045,663,875  5cbf6a3df1b3f84eb09bd4e1  \n",
       "2      $330,600,000   May 1, 2015  $1,403,013,963  5cbf6a3df1b3f84eb09bd4e2  \n",
       "3      $317,000,000  Dec 15, 2017  $1,316,721,747  5cbf6a3df1b3f84eb09bd4e3  \n",
       "4      $306,000,000  Dec 18, 2015  $2,053,311,220  5cbf6a3df1b3f84eb09bd4e4  "
      ]
     },
     "execution_count": 2,
     "metadata": {},
     "output_type": "execute_result"
    }
   ],
   "source": [
    "budget_data = \"prodbudget.csv\"\n",
    "budget_data_df = pd.read_csv(budget_data)\n",
    "budget_data_df.head()"
   ]
  },
  {
   "cell_type": "code",
   "execution_count": 3,
   "metadata": {},
   "outputs": [],
   "source": [
    "budget_data_df[\"Production Budget\"]=budget_data_df[\"Production Budget\"].replace({'\\$': '',',': ''}, regex=True)\n",
    "budget_data_df[\"Production Budget\"]=budget_data_df[\"Production Budget\"].astype(float)"
   ]
  },
  {
   "cell_type": "code",
   "execution_count": 4,
   "metadata": {},
   "outputs": [],
   "source": [
    "budget_data_df[\"Worldwide Gross\"]=budget_data_df[\"Worldwide Gross\"].replace({'\\$': '',',': ''}, regex=True)\n",
    "budget_data_df[\"Worldwide Gross\"]=budget_data_df[\"Worldwide Gross\"].astype(float)"
   ]
  },
  {
   "cell_type": "code",
   "execution_count": 6,
   "metadata": {},
   "outputs": [],
   "source": [
    "budget_data_df=budget_data_df.rename(columns={\"ReleaseDate\":\"Release_Date\"})\n",
    "budget_data_df[\"Release_Date\"]=pd.to_datetime(budget_data_df.Release_Date)"
   ]
  },
  {
   "cell_type": "code",
   "execution_count": 7,
   "metadata": {},
   "outputs": [
    {
     "data": {
      "text/plain": [
       "Domestic Gross               object\n",
       "Movie                        object\n",
       "Production Budget           float64\n",
       "Release_Date         datetime64[ns]\n",
       "Worldwide Gross             float64\n",
       "_id                          object\n",
       "dtype: object"
      ]
     },
     "execution_count": 7,
     "metadata": {},
     "output_type": "execute_result"
    }
   ],
   "source": [
    "budget_data_df.dtypes"
   ]
  },
  {
   "cell_type": "code",
   "execution_count": 12,
   "metadata": {},
   "outputs": [],
   "source": [
    "budget_data_df.to_csv('prodbudget_clean.csv', encoding='utf-8', index=False)"
   ]
  },
  {
   "cell_type": "code",
   "execution_count": null,
   "metadata": {},
   "outputs": [],
   "source": []
  }
 ],
 "metadata": {
  "kernelspec": {
   "display_name": "Python 3",
   "language": "python",
   "name": "python3"
  },
  "language_info": {
   "codemirror_mode": {
    "name": "ipython",
    "version": 3
   },
   "file_extension": ".py",
   "mimetype": "text/x-python",
   "name": "python",
   "nbconvert_exporter": "python",
   "pygments_lexer": "ipython3",
   "version": "3.7.1"
  }
 },
 "nbformat": 4,
 "nbformat_minor": 2
}
